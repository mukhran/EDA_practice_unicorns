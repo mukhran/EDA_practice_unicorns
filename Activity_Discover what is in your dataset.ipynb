{
 "cells": [
  {
   "cell_type": "markdown",
   "id": "5ceeaa66",
   "metadata": {
    "id": "1WD1hC5MTRMS"
   },
   "source": [
    "# Activity: Discover what is in your dataset"
   ]
  },
  {
   "cell_type": "markdown",
   "id": "b9b83843",
   "metadata": {
    "id": "ee31943b-274e-4c28-bce6-155cb6f4c334"
   },
   "source": [
    "## Introduction\n",
    "\n",
    "In this activity, you will discover characteristics of a dataset and use visualizations to analyze the data. This will develop and strengthen your skills in **exploratory data analysis (EDA)** and your knowledge of functions that allow you to explore and visualize data. \n",
    "\n",
    "EDA is an essential process in a data science workflow. As a data professional, you will need to conduct this process to better understand the data at hand and determine how it can be used to solve the problem you want to address. This activity will give you an opportunity to practice that process and prepare you for EDA in future projects.\n",
    "\n",
    "In this activity, you are a member of an analytics team that provides insights to an investing firm. To help them decide which companies to invest in next, the firm wants insights into **unicorn companies**–companies that are valued at over one billion dollars. The data you will use for this task provides information on over 1,000 unicorn companies, including their industry, country, year founded, and select investors. You will use this information to gain insights into how and when companies reach this prestigious milestone and to make recommendations for next steps to the investing firm."
   ]
  },
  {
   "cell_type": "markdown",
   "id": "2c45a02c",
   "metadata": {
    "id": "4bb9630e-b940-4835-a389-d39def1fa848"
   },
   "source": [
    "## Step 1: Imports"
   ]
  },
  {
   "cell_type": "markdown",
   "id": "68bd0fde",
   "metadata": {
    "id": "bc180686-4ae2-47ea-a292-3588ac60a820"
   },
   "source": [
    "### Import libraries and packages \n",
    "\n",
    "First, import relevant Python libraries and modules. Use the `pandas` library and the `matplotlib.pyplot` module."
   ]
  },
  {
   "cell_type": "code",
   "execution_count": 1,
   "id": "ebfdc869",
   "metadata": {
    "id": "8e7f1f2c-bbcc-4f3c-b927-b090ee8334c4"
   },
   "outputs": [],
   "source": [
    "# Import libraries and packages\n",
    "\n",
    "\n",
    "### YOUR CODE HERE ###\n",
    "import pandas as pd\n",
    "import numpy as np\n",
    "import datetime as dt\n",
    "import matplotlib.pyplot as plt"
   ]
  },
  {
   "cell_type": "markdown",
   "id": "ebb25d7f",
   "metadata": {
    "id": "7d29c6bd-f194-46bb-b794-56dc20130473"
   },
   "source": [
    "### Load the dataset into a DataFrame\n",
    "\n",
    "The dataset provided is in the form of a csv file named `Unicorn_Companies.csv` and contains a subset of data on unicorn companies. As shown in this cell, the dataset has been automatically loaded in for you. You do not need to download the .csv file, or provide more code, in order to access the dataset and proceed with this lab. Please continue with this activity by completing the following instructions."
   ]
  },
  {
   "cell_type": "code",
   "execution_count": 2,
   "id": "570591c1",
   "metadata": {
    "id": "3bd40d44-080f-4e49-b0c2-160dedc3c4df"
   },
   "outputs": [],
   "source": [
    "# RUN THIS CELL TO IMPORT YOUR DATA.\n",
    "\n",
    "### YOUR CODE HERE ###\n",
    "companies = pd.read_csv(\"Unicorn_Companies.csv\")"
   ]
  },
  {
   "cell_type": "markdown",
   "id": "6ff1ebc7",
   "metadata": {
    "id": "lXPOJ3LO-v7J",
    "jp-MarkdownHeadingCollapsed": true,
    "tags": []
   },
   "source": [
    "<details>\n",
    "  <summary><h4><strong>Hint 1</strong></h4></summary>\n",
    "\n",
    "Refer to what you learned about [loading data](https://www.coursera.org/learn/go-beyond-the-numbers-translate-data-into-insight/supplement/MdTG2/reference-guide-import-datasets-using-python) in Python.\n",
    "\n",
    "</details>"
   ]
  },
  {
   "cell_type": "markdown",
   "id": "2e8091bb",
   "metadata": {
    "id": "O5TEL8Ty-v7L",
    "jp-MarkdownHeadingCollapsed": true,
    "tags": []
   },
   "source": [
    "<details>\n",
    "  <summary><h4><strong>Hint 2</strong></h4></summary>\n",
    "\n",
    "Use the function in the `pandas` library that allows you to read data from a csv file and load the data into a DataFrame.\n",
    " \n",
    "\n",
    "</details>"
   ]
  },
  {
   "cell_type": "markdown",
   "id": "1fe6ca30",
   "metadata": {
    "id": "kEx2SsH2-v7M",
    "jp-MarkdownHeadingCollapsed": true,
    "tags": []
   },
   "source": [
    "<details>\n",
    "  <summary><h4><strong>Hint 3</strong></h4></summary>\n",
    "\n",
    "Use the `read_csv()` function from the `pandas` library. \n",
    "\n",
    "</details>"
   ]
  },
  {
   "cell_type": "markdown",
   "id": "ec3863b8",
   "metadata": {
    "id": "95bf39c9-d05c-4324-a40b-bc692607b61b"
   },
   "source": [
    "## Step 2: Data exploration"
   ]
  },
  {
   "cell_type": "markdown",
   "id": "6d176e1e",
   "metadata": {
    "id": "26561614-8e9b-4840-8dbf-b50131ae5314",
    "tags": []
   },
   "source": [
    "### Display the first 10 rows of the data\n",
    "\n",
    "Next, explore the dataset and answer questions to guide your exploration and analysis of the data. To begin, display the first 10 rows of the data to get an understanding of how the dataset is structured."
   ]
  },
  {
   "cell_type": "code",
   "execution_count": 3,
   "id": "2fda0827",
   "metadata": {
    "id": "ad5210a5-7a64-4991-b004-de818cfaf506"
   },
   "outputs": [
    {
     "data": {
      "text/html": [
       "<div>\n",
       "<style scoped>\n",
       "    .dataframe tbody tr th:only-of-type {\n",
       "        vertical-align: middle;\n",
       "    }\n",
       "\n",
       "    .dataframe tbody tr th {\n",
       "        vertical-align: top;\n",
       "    }\n",
       "\n",
       "    .dataframe thead th {\n",
       "        text-align: right;\n",
       "    }\n",
       "</style>\n",
       "<table border=\"1\" class=\"dataframe\">\n",
       "  <thead>\n",
       "    <tr style=\"text-align: right;\">\n",
       "      <th></th>\n",
       "      <th>Company</th>\n",
       "      <th>Valuation</th>\n",
       "      <th>Date Joined</th>\n",
       "      <th>Industry</th>\n",
       "      <th>City</th>\n",
       "      <th>Country/Region</th>\n",
       "      <th>Continent</th>\n",
       "      <th>Year Founded</th>\n",
       "      <th>Funding</th>\n",
       "      <th>Select Investors</th>\n",
       "    </tr>\n",
       "  </thead>\n",
       "  <tbody>\n",
       "    <tr>\n",
       "      <th>0</th>\n",
       "      <td>Bytedance</td>\n",
       "      <td>$180B</td>\n",
       "      <td>4/7/17</td>\n",
       "      <td>Artificial intelligence</td>\n",
       "      <td>Beijing</td>\n",
       "      <td>China</td>\n",
       "      <td>Asia</td>\n",
       "      <td>2012</td>\n",
       "      <td>$8B</td>\n",
       "      <td>Sequoia Capital China, SIG Asia Investments, S...</td>\n",
       "    </tr>\n",
       "    <tr>\n",
       "      <th>1</th>\n",
       "      <td>SpaceX</td>\n",
       "      <td>$100B</td>\n",
       "      <td>12/1/12</td>\n",
       "      <td>Other</td>\n",
       "      <td>Hawthorne</td>\n",
       "      <td>United States</td>\n",
       "      <td>North America</td>\n",
       "      <td>2002</td>\n",
       "      <td>$7B</td>\n",
       "      <td>Founders Fund, Draper Fisher Jurvetson, Rothen...</td>\n",
       "    </tr>\n",
       "    <tr>\n",
       "      <th>2</th>\n",
       "      <td>SHEIN</td>\n",
       "      <td>$100B</td>\n",
       "      <td>7/3/18</td>\n",
       "      <td>E-commerce &amp; direct-to-consumer</td>\n",
       "      <td>Shenzhen</td>\n",
       "      <td>China</td>\n",
       "      <td>Asia</td>\n",
       "      <td>2008</td>\n",
       "      <td>$2B</td>\n",
       "      <td>Tiger Global Management, Sequoia Capital China...</td>\n",
       "    </tr>\n",
       "    <tr>\n",
       "      <th>3</th>\n",
       "      <td>Stripe</td>\n",
       "      <td>$95B</td>\n",
       "      <td>1/23/14</td>\n",
       "      <td>Fintech</td>\n",
       "      <td>San Francisco</td>\n",
       "      <td>United States</td>\n",
       "      <td>North America</td>\n",
       "      <td>2010</td>\n",
       "      <td>$2B</td>\n",
       "      <td>Khosla Ventures, LowercaseCapital, capitalG</td>\n",
       "    </tr>\n",
       "    <tr>\n",
       "      <th>4</th>\n",
       "      <td>Klarna</td>\n",
       "      <td>$46B</td>\n",
       "      <td>12/12/11</td>\n",
       "      <td>Fintech</td>\n",
       "      <td>Stockholm</td>\n",
       "      <td>Sweden</td>\n",
       "      <td>Europe</td>\n",
       "      <td>2005</td>\n",
       "      <td>$4B</td>\n",
       "      <td>Institutional Venture Partners, Sequoia Capita...</td>\n",
       "    </tr>\n",
       "  </tbody>\n",
       "</table>\n",
       "</div>"
      ],
      "text/plain": [
       "     Company Valuation Date Joined                         Industry  \\\n",
       "0  Bytedance     $180B      4/7/17          Artificial intelligence   \n",
       "1     SpaceX     $100B     12/1/12                            Other   \n",
       "2      SHEIN     $100B      7/3/18  E-commerce & direct-to-consumer   \n",
       "3     Stripe      $95B     1/23/14                          Fintech   \n",
       "4     Klarna      $46B    12/12/11                          Fintech   \n",
       "\n",
       "            City Country/Region      Continent  Year Founded Funding  \\\n",
       "0        Beijing          China           Asia          2012     $8B   \n",
       "1      Hawthorne  United States  North America          2002     $7B   \n",
       "2       Shenzhen          China           Asia          2008     $2B   \n",
       "3  San Francisco  United States  North America          2010     $2B   \n",
       "4      Stockholm         Sweden         Europe          2005     $4B   \n",
       "\n",
       "                                    Select Investors  \n",
       "0  Sequoia Capital China, SIG Asia Investments, S...  \n",
       "1  Founders Fund, Draper Fisher Jurvetson, Rothen...  \n",
       "2  Tiger Global Management, Sequoia Capital China...  \n",
       "3        Khosla Ventures, LowercaseCapital, capitalG  \n",
       "4  Institutional Venture Partners, Sequoia Capita...  "
      ]
     },
     "execution_count": 3,
     "metadata": {},
     "output_type": "execute_result"
    }
   ],
   "source": [
    "# Display the first 10 rows of the data\n",
    "\n",
    "### YOUR CODE HERE ###\n",
    "companies.head()"
   ]
  },
  {
   "cell_type": "markdown",
   "id": "76cecc77",
   "metadata": {
    "id": "fb45ed17-5e22-4d48-9750-130a8586bbf9",
    "tags": []
   },
   "source": [
    "**Question:** What do you think the \"Date Joined\" column represents?"
   ]
  },
  {
   "cell_type": "markdown",
   "id": "a44d8b52",
   "metadata": {
    "id": "EvIbtmjalQHF"
   },
   "source": [
    " [Write your response here. Double-click (or enter) to edit.]"
   ]
  },
  {
   "cell_type": "markdown",
   "id": "4d1e5f90",
   "metadata": {
    "id": "46e7fce4-b8dc-4f53-9f5f-a7d7fdfe0831",
    "tags": []
   },
   "source": [
    "**Question:** What do you think the \"Select Investors\" column represents?"
   ]
  },
  {
   "cell_type": "markdown",
   "id": "8ac80b38",
   "metadata": {
    "id": "1sdw8O-PlQ19"
   },
   "source": [
    "[Write your response here. Double-click (or enter) to edit.]"
   ]
  },
  {
   "cell_type": "markdown",
   "id": "6cba29ed",
   "metadata": {
    "id": "6d423621-c14b-4987-a76d-feee76046144"
   },
   "source": [
    "### Assess the size of the dataset\n",
    "\n",
    "Get a sense of how large the dataset is. The `size` property that DataFrames have can help."
   ]
  },
  {
   "cell_type": "code",
   "execution_count": 4,
   "id": "aafe585b",
   "metadata": {
    "id": "1856c3c8-dd7e-4b0f-8e30-06e8ed6b9885"
   },
   "outputs": [
    {
     "data": {
      "text/plain": [
       "10740"
      ]
     },
     "execution_count": 4,
     "metadata": {},
     "output_type": "execute_result"
    }
   ],
   "source": [
    "# How large the dataset is\n",
    "\n",
    "### YOUR CODE HERE ###\n",
    "companies.size"
   ]
  },
  {
   "cell_type": "markdown",
   "id": "8d336b31",
   "metadata": {
    "id": "a1188994-353a-466e-884c-e7b770fa03ac",
    "jp-MarkdownHeadingCollapsed": true,
    "tags": []
   },
   "source": [
    "**Question:** What do you notice about the size of the dataset?"
   ]
  },
  {
   "cell_type": "markdown",
   "id": "05b2fc9f",
   "metadata": {
    "id": "gLRHG7k6lPC2"
   },
   "source": [
    "[Write your response here. Double-click (or enter) to edit.]"
   ]
  },
  {
   "cell_type": "markdown",
   "id": "7ae60c4c",
   "metadata": {
    "id": "e31095a6-5526-42d3-b1c0-b77c1f8b3852"
   },
   "source": [
    "### Determine the shape of the dataset\n",
    "\n",
    "Identify the number of rows and columns in the dataset. The `shape` property that DataFrames have can help."
   ]
  },
  {
   "cell_type": "code",
   "execution_count": 5,
   "id": "873bd266",
   "metadata": {
    "id": "df3c71a1-2519-4c50-86c2-63902a534d27"
   },
   "outputs": [
    {
     "data": {
      "text/plain": [
       "(1074, 10)"
      ]
     },
     "execution_count": 5,
     "metadata": {},
     "output_type": "execute_result"
    }
   ],
   "source": [
    "# Shape of the dataset\n",
    "\n",
    "### YOUR CODE HERE ###\n",
    "companies.shape"
   ]
  },
  {
   "cell_type": "markdown",
   "id": "86d86b69",
   "metadata": {
    "id": "4c2998a8-f864-43eb-a2d5-64845ebc805c"
   },
   "source": [
    "**Question:** What do you notice about the shape of the dataset?"
   ]
  },
  {
   "cell_type": "markdown",
   "id": "9e6004b1",
   "metadata": {
    "id": "2D8Ix19xlOHv"
   },
   "source": [
    "[Write your response here. Double-click (or enter) to edit.]"
   ]
  },
  {
   "cell_type": "markdown",
   "id": "2abfc4a9",
   "metadata": {
    "id": "b9c8ecb7-c202-4d0a-92ad-b6b6737bc167"
   },
   "source": [
    "### Get basic information about the dataset\n",
    "\n",
    "To further understand what the dataset entails, get basic information about the dataset, including the data type of values in each column. There is more than one way to approach this task. In this instance, use the `info()` function from `pandas`."
   ]
  },
  {
   "cell_type": "code",
   "execution_count": 6,
   "id": "9b786fb1",
   "metadata": {
    "id": "eedad8b8-ca45-430e-91d2-eff3ad66adaf"
   },
   "outputs": [
    {
     "name": "stdout",
     "output_type": "stream",
     "text": [
      "<class 'pandas.core.frame.DataFrame'>\n",
      "RangeIndex: 1074 entries, 0 to 1073\n",
      "Data columns (total 10 columns):\n",
      " #   Column            Non-Null Count  Dtype \n",
      "---  ------            --------------  ----- \n",
      " 0   Company           1074 non-null   object\n",
      " 1   Valuation         1074 non-null   object\n",
      " 2   Date Joined       1074 non-null   object\n",
      " 3   Industry          1074 non-null   object\n",
      " 4   City              1058 non-null   object\n",
      " 5   Country/Region    1074 non-null   object\n",
      " 6   Continent         1074 non-null   object\n",
      " 7   Year Founded      1074 non-null   int64 \n",
      " 8   Funding           1074 non-null   object\n",
      " 9   Select Investors  1073 non-null   object\n",
      "dtypes: int64(1), object(9)\n",
      "memory usage: 84.0+ KB\n"
     ]
    }
   ],
   "source": [
    "# Get information\n",
    "\n",
    "### YOUR CODE HERE ###\n",
    "companies.info()"
   ]
  },
  {
   "cell_type": "markdown",
   "id": "f895a0e6",
   "metadata": {
    "id": "bd6573bc-2adb-410e-a85c-d6d5886d51bf"
   },
   "source": [
    "**Question:** What do you notice about the type of data in the `Year Founded` column? Refer to the output from using `info()` above. Knowing the data type of this variable is helpful because it indicates what types of analysis can be done with that variable, how it can be aggregated with other variables, and so on."
   ]
  },
  {
   "cell_type": "markdown",
   "id": "41ffcac4",
   "metadata": {
    "id": "z_zKTLpXlF3D"
   },
   "source": [
    "[Write your response here. Double-click (or enter) to edit.]"
   ]
  },
  {
   "cell_type": "markdown",
   "id": "dfa9096e",
   "metadata": {
    "id": "e6da795c-331b-4271-9825-103112cb08da"
   },
   "source": [
    "**Question:** What do you notice about the type of data in the `Date Joined` column? Refer to the output from using `info()` above. Knowing the data type of this variable is helpful because it indicates what types of analysis can be done with that variable and how the variable can be transformed to suit specific tasks."
   ]
  },
  {
   "cell_type": "markdown",
   "id": "fd4f9cf2",
   "metadata": {
    "id": "oS1P_JQNlMFQ"
   },
   "source": [
    "[Write your response here. Double-click (or enter) to edit.]"
   ]
  },
  {
   "cell_type": "markdown",
   "id": "2539709f",
   "metadata": {
    "id": "XFkjw_Ke2Cjn"
   },
   "source": [
    "## Step 3: Statistical tests"
   ]
  },
  {
   "cell_type": "markdown",
   "id": "9ce900c0",
   "metadata": {
    "id": "7dac147e-19e1-49e7-bd80-e122390c3a70",
    "tags": []
   },
   "source": [
    "### Find descriptive statistics\n",
    "\n",
    "Find descriptive statistics and structure your dataset. The `describe()` function from the `pandas` library can help. This function generates statistics for the numeric columns in a dataset. "
   ]
  },
  {
   "cell_type": "code",
   "execution_count": 7,
   "id": "aaa50d2c",
   "metadata": {
    "id": "13f1c1dd-5637-4726-8fa0-2fbd838e4afa"
   },
   "outputs": [
    {
     "data": {
      "text/html": [
       "<div>\n",
       "<style scoped>\n",
       "    .dataframe tbody tr th:only-of-type {\n",
       "        vertical-align: middle;\n",
       "    }\n",
       "\n",
       "    .dataframe tbody tr th {\n",
       "        vertical-align: top;\n",
       "    }\n",
       "\n",
       "    .dataframe thead th {\n",
       "        text-align: right;\n",
       "    }\n",
       "</style>\n",
       "<table border=\"1\" class=\"dataframe\">\n",
       "  <thead>\n",
       "    <tr style=\"text-align: right;\">\n",
       "      <th></th>\n",
       "      <th>Year Founded</th>\n",
       "    </tr>\n",
       "  </thead>\n",
       "  <tbody>\n",
       "    <tr>\n",
       "      <th>count</th>\n",
       "      <td>1074.000000</td>\n",
       "    </tr>\n",
       "    <tr>\n",
       "      <th>mean</th>\n",
       "      <td>2012.895717</td>\n",
       "    </tr>\n",
       "    <tr>\n",
       "      <th>std</th>\n",
       "      <td>5.698573</td>\n",
       "    </tr>\n",
       "    <tr>\n",
       "      <th>min</th>\n",
       "      <td>1919.000000</td>\n",
       "    </tr>\n",
       "    <tr>\n",
       "      <th>25%</th>\n",
       "      <td>2011.000000</td>\n",
       "    </tr>\n",
       "    <tr>\n",
       "      <th>50%</th>\n",
       "      <td>2014.000000</td>\n",
       "    </tr>\n",
       "    <tr>\n",
       "      <th>75%</th>\n",
       "      <td>2016.000000</td>\n",
       "    </tr>\n",
       "    <tr>\n",
       "      <th>max</th>\n",
       "      <td>2021.000000</td>\n",
       "    </tr>\n",
       "  </tbody>\n",
       "</table>\n",
       "</div>"
      ],
      "text/plain": [
       "       Year Founded\n",
       "count   1074.000000\n",
       "mean    2012.895717\n",
       "std        5.698573\n",
       "min     1919.000000\n",
       "25%     2011.000000\n",
       "50%     2014.000000\n",
       "75%     2016.000000\n",
       "max     2021.000000"
      ]
     },
     "execution_count": 7,
     "metadata": {},
     "output_type": "execute_result"
    }
   ],
   "source": [
    "# Get descriptive statistics\n",
    "\n",
    "### YOUR CODE HERE ###\n",
    "companies.describe()"
   ]
  },
  {
   "cell_type": "markdown",
   "id": "eef76e90",
   "metadata": {
    "id": "a70475eb-d3a6-42e4-8b71-a49b5a1aa0db"
   },
   "source": [
    "**Question:** Based on the table of descriptive stats generated above, what do you notice about the minimum value in the `Year Founded` column? This is important to know because it helps you understand how early the entries in the data begin."
   ]
  },
  {
   "cell_type": "markdown",
   "id": "0a1a8dba",
   "metadata": {
    "id": "KoM_YE7TlSx7"
   },
   "source": [
    "[Write your response here. Double-click (or enter) to edit.]"
   ]
  },
  {
   "cell_type": "markdown",
   "id": "214dfd0e",
   "metadata": {
    "id": "390764a7-961c-4ec7-ae11-38943d94b788",
    "tags": []
   },
   "source": [
    "**Question:** What do you notice about the maximum value in the `Year Founded` column? This is important to know because it helps you understand the most recent year captured by the data. "
   ]
  },
  {
   "cell_type": "markdown",
   "id": "456a2e24",
   "metadata": {
    "id": "7HQWuLNhZXTZ"
   },
   "source": [
    "[Write your response here. Double-click (or enter) to edit.]"
   ]
  },
  {
   "cell_type": "markdown",
   "id": "af0d1527",
   "metadata": {
    "id": "94b53c7f-54d8-4d1a-ae07-7c28c2ab8f5b",
    "tags": []
   },
   "source": [
    "### Convert the `Date Joined` column to datetime\n",
    "\n",
    "Use the `to_datetime()` function from the `pandas` library  to convert the `Date Joined` column to datetime. This splits each value into year, month, and date components. This is an important step in data cleaning, as it makes the data in this column easier to use in tasks you may encounter. To name a few examples, you may need to compare \"date joined\" between companies or determine how long it took a company to become a unicorn. Having \"date joined\" in datetime form would help you complete such tasks."
   ]
  },
  {
   "cell_type": "code",
   "execution_count": 8,
   "id": "92369814",
   "metadata": {
    "id": "afe607c8-9dd7-47c3-9fc8-88772f015e2b"
   },
   "outputs": [],
   "source": [
    "# Step 1: Use pd.to_datetime() to convert Date Joined column to datetime \n",
    "# Step 2: Update the column with the converted values\n",
    "\n",
    "### YOUR CODE HERE ###\n",
    "companies['Date Joined'] = pd.to_datetime(companies['Date Joined'])"
   ]
  },
  {
   "cell_type": "code",
   "execution_count": 9,
   "id": "760710f4",
   "metadata": {
    "id": "SBg22N43bA17"
   },
   "outputs": [
    {
     "name": "stdout",
     "output_type": "stream",
     "text": [
      "<class 'pandas.core.frame.DataFrame'>\n",
      "RangeIndex: 1074 entries, 0 to 1073\n",
      "Data columns (total 10 columns):\n",
      " #   Column            Non-Null Count  Dtype         \n",
      "---  ------            --------------  -----         \n",
      " 0   Company           1074 non-null   object        \n",
      " 1   Valuation         1074 non-null   object        \n",
      " 2   Date Joined       1074 non-null   datetime64[ns]\n",
      " 3   Industry          1074 non-null   object        \n",
      " 4   City              1058 non-null   object        \n",
      " 5   Country/Region    1074 non-null   object        \n",
      " 6   Continent         1074 non-null   object        \n",
      " 7   Year Founded      1074 non-null   int64         \n",
      " 8   Funding           1074 non-null   object        \n",
      " 9   Select Investors  1073 non-null   object        \n",
      "dtypes: datetime64[ns](1), int64(1), object(8)\n",
      "memory usage: 84.0+ KB\n"
     ]
    }
   ],
   "source": [
    "# Use .info() to confirm that the update actually took place\n",
    "\n",
    "### YOUR CODE HERE ###\n",
    "companies.info()"
   ]
  },
  {
   "cell_type": "markdown",
   "id": "6e9239b8",
   "metadata": {
    "id": "ae351a97-926e-40af-91e2-4bd12a5bf888",
    "tags": []
   },
   "source": [
    "### Create a `Year Joined` column\n",
    "\n",
    "It is common to encounter situations where you will need to compare the year joined with the year founded. The `Date Joined` column does not just have year—it has the year, month, and date. Extract the year component from the `Date Joined` column and add those year components into a new column to keep track of each company's year joined."
   ]
  },
  {
   "cell_type": "code",
   "execution_count": 10,
   "id": "851b099a",
   "metadata": {
    "id": "7d8be21b-d625-4a8a-ad8b-a2e4ae7a2c4e"
   },
   "outputs": [],
   "source": [
    "# Step 1: Use .dt.year to extract year component from Date Joined column\n",
    "# Step 2: Add the result as a new column named Year Joined to the DataFrame\n",
    "\n",
    "### YOUR CODE HERE ###\n",
    "companies['Year Joined'] = companies['Date Joined'].dt.year"
   ]
  },
  {
   "cell_type": "code",
   "execution_count": 11,
   "id": "e65695f7",
   "metadata": {
    "id": "eSycjkBTbQB4"
   },
   "outputs": [
    {
     "data": {
      "text/html": [
       "<div>\n",
       "<style scoped>\n",
       "    .dataframe tbody tr th:only-of-type {\n",
       "        vertical-align: middle;\n",
       "    }\n",
       "\n",
       "    .dataframe tbody tr th {\n",
       "        vertical-align: top;\n",
       "    }\n",
       "\n",
       "    .dataframe thead th {\n",
       "        text-align: right;\n",
       "    }\n",
       "</style>\n",
       "<table border=\"1\" class=\"dataframe\">\n",
       "  <thead>\n",
       "    <tr style=\"text-align: right;\">\n",
       "      <th></th>\n",
       "      <th>Company</th>\n",
       "      <th>Valuation</th>\n",
       "      <th>Date Joined</th>\n",
       "      <th>Industry</th>\n",
       "      <th>City</th>\n",
       "      <th>Country/Region</th>\n",
       "      <th>Continent</th>\n",
       "      <th>Year Founded</th>\n",
       "      <th>Funding</th>\n",
       "      <th>Select Investors</th>\n",
       "      <th>Year Joined</th>\n",
       "    </tr>\n",
       "  </thead>\n",
       "  <tbody>\n",
       "    <tr>\n",
       "      <th>0</th>\n",
       "      <td>Bytedance</td>\n",
       "      <td>$180B</td>\n",
       "      <td>2017-04-07</td>\n",
       "      <td>Artificial intelligence</td>\n",
       "      <td>Beijing</td>\n",
       "      <td>China</td>\n",
       "      <td>Asia</td>\n",
       "      <td>2012</td>\n",
       "      <td>$8B</td>\n",
       "      <td>Sequoia Capital China, SIG Asia Investments, S...</td>\n",
       "      <td>2017</td>\n",
       "    </tr>\n",
       "    <tr>\n",
       "      <th>1</th>\n",
       "      <td>SpaceX</td>\n",
       "      <td>$100B</td>\n",
       "      <td>2012-12-01</td>\n",
       "      <td>Other</td>\n",
       "      <td>Hawthorne</td>\n",
       "      <td>United States</td>\n",
       "      <td>North America</td>\n",
       "      <td>2002</td>\n",
       "      <td>$7B</td>\n",
       "      <td>Founders Fund, Draper Fisher Jurvetson, Rothen...</td>\n",
       "      <td>2012</td>\n",
       "    </tr>\n",
       "    <tr>\n",
       "      <th>2</th>\n",
       "      <td>SHEIN</td>\n",
       "      <td>$100B</td>\n",
       "      <td>2018-07-03</td>\n",
       "      <td>E-commerce &amp; direct-to-consumer</td>\n",
       "      <td>Shenzhen</td>\n",
       "      <td>China</td>\n",
       "      <td>Asia</td>\n",
       "      <td>2008</td>\n",
       "      <td>$2B</td>\n",
       "      <td>Tiger Global Management, Sequoia Capital China...</td>\n",
       "      <td>2018</td>\n",
       "    </tr>\n",
       "    <tr>\n",
       "      <th>3</th>\n",
       "      <td>Stripe</td>\n",
       "      <td>$95B</td>\n",
       "      <td>2014-01-23</td>\n",
       "      <td>Fintech</td>\n",
       "      <td>San Francisco</td>\n",
       "      <td>United States</td>\n",
       "      <td>North America</td>\n",
       "      <td>2010</td>\n",
       "      <td>$2B</td>\n",
       "      <td>Khosla Ventures, LowercaseCapital, capitalG</td>\n",
       "      <td>2014</td>\n",
       "    </tr>\n",
       "    <tr>\n",
       "      <th>4</th>\n",
       "      <td>Klarna</td>\n",
       "      <td>$46B</td>\n",
       "      <td>2011-12-12</td>\n",
       "      <td>Fintech</td>\n",
       "      <td>Stockholm</td>\n",
       "      <td>Sweden</td>\n",
       "      <td>Europe</td>\n",
       "      <td>2005</td>\n",
       "      <td>$4B</td>\n",
       "      <td>Institutional Venture Partners, Sequoia Capita...</td>\n",
       "      <td>2011</td>\n",
       "    </tr>\n",
       "    <tr>\n",
       "      <th>5</th>\n",
       "      <td>Canva</td>\n",
       "      <td>$40B</td>\n",
       "      <td>2018-01-08</td>\n",
       "      <td>Internet software &amp; services</td>\n",
       "      <td>Surry Hills</td>\n",
       "      <td>Australia</td>\n",
       "      <td>Oceania</td>\n",
       "      <td>2012</td>\n",
       "      <td>$572M</td>\n",
       "      <td>Sequoia Capital China, Blackbird Ventures, Mat...</td>\n",
       "      <td>2018</td>\n",
       "    </tr>\n",
       "    <tr>\n",
       "      <th>6</th>\n",
       "      <td>Checkout.com</td>\n",
       "      <td>$40B</td>\n",
       "      <td>2019-05-02</td>\n",
       "      <td>Fintech</td>\n",
       "      <td>London</td>\n",
       "      <td>United Kingdom</td>\n",
       "      <td>Europe</td>\n",
       "      <td>2012</td>\n",
       "      <td>$2B</td>\n",
       "      <td>Tiger Global Management, Insight Partners, DST...</td>\n",
       "      <td>2019</td>\n",
       "    </tr>\n",
       "    <tr>\n",
       "      <th>7</th>\n",
       "      <td>Instacart</td>\n",
       "      <td>$39B</td>\n",
       "      <td>2014-12-30</td>\n",
       "      <td>Supply chain, logistics, &amp; delivery</td>\n",
       "      <td>San Francisco</td>\n",
       "      <td>United States</td>\n",
       "      <td>North America</td>\n",
       "      <td>2012</td>\n",
       "      <td>$3B</td>\n",
       "      <td>Khosla Ventures, Kleiner Perkins Caufield &amp; By...</td>\n",
       "      <td>2014</td>\n",
       "    </tr>\n",
       "    <tr>\n",
       "      <th>8</th>\n",
       "      <td>JUUL Labs</td>\n",
       "      <td>$38B</td>\n",
       "      <td>2017-12-20</td>\n",
       "      <td>Consumer &amp; retail</td>\n",
       "      <td>San Francisco</td>\n",
       "      <td>United States</td>\n",
       "      <td>North America</td>\n",
       "      <td>2015</td>\n",
       "      <td>$14B</td>\n",
       "      <td>Tiger Global Management</td>\n",
       "      <td>2017</td>\n",
       "    </tr>\n",
       "    <tr>\n",
       "      <th>9</th>\n",
       "      <td>Databricks</td>\n",
       "      <td>$38B</td>\n",
       "      <td>2019-02-05</td>\n",
       "      <td>Data management &amp; analytics</td>\n",
       "      <td>San Francisco</td>\n",
       "      <td>United States</td>\n",
       "      <td>North America</td>\n",
       "      <td>2013</td>\n",
       "      <td>$3B</td>\n",
       "      <td>Andreessen Horowitz, New Enterprise Associates...</td>\n",
       "      <td>2019</td>\n",
       "    </tr>\n",
       "    <tr>\n",
       "      <th>10</th>\n",
       "      <td>Revolut</td>\n",
       "      <td>$33B</td>\n",
       "      <td>2018-04-26</td>\n",
       "      <td>Fintech</td>\n",
       "      <td>London</td>\n",
       "      <td>United Kingdom</td>\n",
       "      <td>Europe</td>\n",
       "      <td>2015</td>\n",
       "      <td>$2B</td>\n",
       "      <td>index Ventures, DST Global, Ribbit Capital</td>\n",
       "      <td>2018</td>\n",
       "    </tr>\n",
       "    <tr>\n",
       "      <th>11</th>\n",
       "      <td>Epic Games</td>\n",
       "      <td>$32B</td>\n",
       "      <td>2018-10-26</td>\n",
       "      <td>Other</td>\n",
       "      <td>Cary</td>\n",
       "      <td>United States</td>\n",
       "      <td>North America</td>\n",
       "      <td>1991</td>\n",
       "      <td>$7B</td>\n",
       "      <td>Tencent Holdings, KKR, Smash Ventures</td>\n",
       "      <td>2018</td>\n",
       "    </tr>\n",
       "    <tr>\n",
       "      <th>12</th>\n",
       "      <td>FTX</td>\n",
       "      <td>$32B</td>\n",
       "      <td>2021-07-20</td>\n",
       "      <td>Fintech</td>\n",
       "      <td>NaN</td>\n",
       "      <td>Bahamas</td>\n",
       "      <td>North America</td>\n",
       "      <td>2018</td>\n",
       "      <td>$2B</td>\n",
       "      <td>Sequoia Capital, Thoma Bravo, Softbank</td>\n",
       "      <td>2021</td>\n",
       "    </tr>\n",
       "    <tr>\n",
       "      <th>13</th>\n",
       "      <td>Fanatics</td>\n",
       "      <td>$27B</td>\n",
       "      <td>2012-06-06</td>\n",
       "      <td>E-commerce &amp; direct-to-consumer</td>\n",
       "      <td>Jacksonville</td>\n",
       "      <td>United States</td>\n",
       "      <td>North America</td>\n",
       "      <td>2002</td>\n",
       "      <td>$4B</td>\n",
       "      <td>SoftBank Group, Andreessen Horowitz, Temasek H...</td>\n",
       "      <td>2012</td>\n",
       "    </tr>\n",
       "    <tr>\n",
       "      <th>14</th>\n",
       "      <td>Chime</td>\n",
       "      <td>$25B</td>\n",
       "      <td>2019-03-05</td>\n",
       "      <td>Fintech</td>\n",
       "      <td>San Francisco</td>\n",
       "      <td>United States</td>\n",
       "      <td>North America</td>\n",
       "      <td>2013</td>\n",
       "      <td>$2B</td>\n",
       "      <td>Forerunner Ventures, Crosslink Capital, Homebrew</td>\n",
       "      <td>2019</td>\n",
       "    </tr>\n",
       "    <tr>\n",
       "      <th>15</th>\n",
       "      <td>BYJU's</td>\n",
       "      <td>$22B</td>\n",
       "      <td>2017-07-25</td>\n",
       "      <td>Edtech</td>\n",
       "      <td>Bengaluru</td>\n",
       "      <td>India</td>\n",
       "      <td>Asia</td>\n",
       "      <td>2008</td>\n",
       "      <td>$4B</td>\n",
       "      <td>Tencent Holdings, Lightspeed India Partners, S...</td>\n",
       "      <td>2017</td>\n",
       "    </tr>\n",
       "    <tr>\n",
       "      <th>16</th>\n",
       "      <td>J&amp;T Express</td>\n",
       "      <td>$20B</td>\n",
       "      <td>2021-04-07</td>\n",
       "      <td>Supply chain, logistics, &amp; delivery</td>\n",
       "      <td>Jakarta</td>\n",
       "      <td>Indonesia</td>\n",
       "      <td>Asia</td>\n",
       "      <td>2015</td>\n",
       "      <td>$5B</td>\n",
       "      <td>Hillhouse Capital Management, Boyu Capital, Se...</td>\n",
       "      <td>2021</td>\n",
       "    </tr>\n",
       "    <tr>\n",
       "      <th>17</th>\n",
       "      <td>Xiaohongshu</td>\n",
       "      <td>$20B</td>\n",
       "      <td>2016-03-31</td>\n",
       "      <td>E-commerce &amp; direct-to-consumer</td>\n",
       "      <td>Shanghai</td>\n",
       "      <td>China</td>\n",
       "      <td>Asia</td>\n",
       "      <td>2013</td>\n",
       "      <td>$918M</td>\n",
       "      <td>GGV Capital, ZhenFund, Tencent</td>\n",
       "      <td>2016</td>\n",
       "    </tr>\n",
       "    <tr>\n",
       "      <th>18</th>\n",
       "      <td>Miro</td>\n",
       "      <td>$18B</td>\n",
       "      <td>2022-01-05</td>\n",
       "      <td>Internet software &amp; services</td>\n",
       "      <td>San Francisco</td>\n",
       "      <td>United States</td>\n",
       "      <td>North America</td>\n",
       "      <td>2011</td>\n",
       "      <td>$476M</td>\n",
       "      <td>Accel, AltaIR Capital, Technology Crossover Ve...</td>\n",
       "      <td>2022</td>\n",
       "    </tr>\n",
       "    <tr>\n",
       "      <th>19</th>\n",
       "      <td>Yuanfudao</td>\n",
       "      <td>$17B</td>\n",
       "      <td>2017-05-31</td>\n",
       "      <td>Edtech</td>\n",
       "      <td>Beijing</td>\n",
       "      <td>China</td>\n",
       "      <td>Asia</td>\n",
       "      <td>2012</td>\n",
       "      <td>$4B</td>\n",
       "      <td>Tencent Holdings, Warbug Pincus, IDG Capital</td>\n",
       "      <td>2017</td>\n",
       "    </tr>\n",
       "  </tbody>\n",
       "</table>\n",
       "</div>"
      ],
      "text/plain": [
       "         Company Valuation Date Joined                             Industry  \\\n",
       "0      Bytedance     $180B  2017-04-07              Artificial intelligence   \n",
       "1         SpaceX     $100B  2012-12-01                                Other   \n",
       "2          SHEIN     $100B  2018-07-03      E-commerce & direct-to-consumer   \n",
       "3         Stripe      $95B  2014-01-23                              Fintech   \n",
       "4         Klarna      $46B  2011-12-12                              Fintech   \n",
       "5          Canva      $40B  2018-01-08         Internet software & services   \n",
       "6   Checkout.com      $40B  2019-05-02                              Fintech   \n",
       "7      Instacart      $39B  2014-12-30  Supply chain, logistics, & delivery   \n",
       "8      JUUL Labs      $38B  2017-12-20                    Consumer & retail   \n",
       "9     Databricks      $38B  2019-02-05          Data management & analytics   \n",
       "10       Revolut      $33B  2018-04-26                              Fintech   \n",
       "11    Epic Games      $32B  2018-10-26                                Other   \n",
       "12           FTX      $32B  2021-07-20                              Fintech   \n",
       "13      Fanatics      $27B  2012-06-06      E-commerce & direct-to-consumer   \n",
       "14         Chime      $25B  2019-03-05                              Fintech   \n",
       "15        BYJU's      $22B  2017-07-25                               Edtech   \n",
       "16   J&T Express      $20B  2021-04-07  Supply chain, logistics, & delivery   \n",
       "17   Xiaohongshu      $20B  2016-03-31      E-commerce & direct-to-consumer   \n",
       "18          Miro      $18B  2022-01-05         Internet software & services   \n",
       "19     Yuanfudao      $17B  2017-05-31                               Edtech   \n",
       "\n",
       "             City  Country/Region      Continent  Year Founded Funding  \\\n",
       "0         Beijing           China           Asia          2012     $8B   \n",
       "1       Hawthorne   United States  North America          2002     $7B   \n",
       "2        Shenzhen           China           Asia          2008     $2B   \n",
       "3   San Francisco   United States  North America          2010     $2B   \n",
       "4       Stockholm          Sweden         Europe          2005     $4B   \n",
       "5     Surry Hills       Australia        Oceania          2012   $572M   \n",
       "6          London  United Kingdom         Europe          2012     $2B   \n",
       "7   San Francisco   United States  North America          2012     $3B   \n",
       "8   San Francisco   United States  North America          2015    $14B   \n",
       "9   San Francisco   United States  North America          2013     $3B   \n",
       "10         London  United Kingdom         Europe          2015     $2B   \n",
       "11           Cary   United States  North America          1991     $7B   \n",
       "12            NaN         Bahamas  North America          2018     $2B   \n",
       "13   Jacksonville   United States  North America          2002     $4B   \n",
       "14  San Francisco   United States  North America          2013     $2B   \n",
       "15      Bengaluru           India           Asia          2008     $4B   \n",
       "16        Jakarta       Indonesia           Asia          2015     $5B   \n",
       "17       Shanghai           China           Asia          2013   $918M   \n",
       "18  San Francisco   United States  North America          2011   $476M   \n",
       "19        Beijing           China           Asia          2012     $4B   \n",
       "\n",
       "                                     Select Investors  Year Joined  \n",
       "0   Sequoia Capital China, SIG Asia Investments, S...         2017  \n",
       "1   Founders Fund, Draper Fisher Jurvetson, Rothen...         2012  \n",
       "2   Tiger Global Management, Sequoia Capital China...         2018  \n",
       "3         Khosla Ventures, LowercaseCapital, capitalG         2014  \n",
       "4   Institutional Venture Partners, Sequoia Capita...         2011  \n",
       "5   Sequoia Capital China, Blackbird Ventures, Mat...         2018  \n",
       "6   Tiger Global Management, Insight Partners, DST...         2019  \n",
       "7   Khosla Ventures, Kleiner Perkins Caufield & By...         2014  \n",
       "8                             Tiger Global Management         2017  \n",
       "9   Andreessen Horowitz, New Enterprise Associates...         2019  \n",
       "10         index Ventures, DST Global, Ribbit Capital         2018  \n",
       "11              Tencent Holdings, KKR, Smash Ventures         2018  \n",
       "12             Sequoia Capital, Thoma Bravo, Softbank         2021  \n",
       "13  SoftBank Group, Andreessen Horowitz, Temasek H...         2012  \n",
       "14   Forerunner Ventures, Crosslink Capital, Homebrew         2019  \n",
       "15  Tencent Holdings, Lightspeed India Partners, S...         2017  \n",
       "16  Hillhouse Capital Management, Boyu Capital, Se...         2021  \n",
       "17                     GGV Capital, ZhenFund, Tencent         2016  \n",
       "18  Accel, AltaIR Capital, Technology Crossover Ve...         2022  \n",
       "19       Tencent Holdings, Warbug Pincus, IDG Capital         2017  "
      ]
     },
     "execution_count": 11,
     "metadata": {},
     "output_type": "execute_result"
    }
   ],
   "source": [
    "# Use .head() to confirm that the new column did get added\n",
    "\n",
    "### YOUR CODE HERE ###\n",
    "companies.head(20)"
   ]
  },
  {
   "cell_type": "markdown",
   "id": "377c95d5",
   "metadata": {
    "id": "B4_yxUrQ2Yhp"
   },
   "source": [
    "## Step 4: Results and evaluation\n"
   ]
  },
  {
   "cell_type": "markdown",
   "id": "7e090209",
   "metadata": {
    "id": "5a99bfd0-95e9-4ed3-a01a-2e430967f98e",
    "tags": []
   },
   "source": [
    "### Take a sample of the data\n",
    "\n",
    "It is not necessary to take a sample of the data in order to conduct the visualizations and EDA that follow. But you may encounter scenarios in the future where you will need to take a sample of the data due to time and resource limitations. For the purpose of developing your skills around sampling, take a sample of the data and work with that sample for the next steps of analysis you want to conduct. Use the `sample()` function for this task.\n",
    "\n",
    "- Use `sample()` with the `n` parameter set to `50` to randomly sample 50 unicorn companies from the data. Be sure to specify the `random_state` parameter to ensure reproducibility of your work. Save the result to a variable called `companies_sampled`."
   ]
  },
  {
   "cell_type": "code",
   "execution_count": 12,
   "id": "aa589b83",
   "metadata": {
    "id": "1e5df00e-d64f-417c-b7fc-311a960ecc8c"
   },
   "outputs": [],
   "source": [
    "# Sample the data\n",
    "\n",
    "### YOUR CODE HERE ###\n",
    "companies_sampled = companies.sample(50)"
   ]
  },
  {
   "cell_type": "markdown",
   "id": "52ce4a4c",
   "metadata": {
    "id": "10beff64-16e0-464d-93f0-03ab61f7069b",
    "tags": []
   },
   "source": [
    "### Visualize the time it took companies to reach unicorn status\n",
    "\n",
    "Visualize the longest time it took companies to reach unicorn status for each industry represented in the sample. To create a bar plot to visualize this, use the `bar()` function from the `matplotlib.pyplot` module. You'll first need to prepare the data."
   ]
  },
  {
   "cell_type": "code",
   "execution_count": 15,
   "id": "fad2d90c",
   "metadata": {},
   "outputs": [],
   "source": [
    "# Prepare data for plotting\n",
    "\n",
    "### YOUR CODE HERE ###\n",
    "# Calculate the time it took to reach unicorn status (in years)\n",
    "companies['Time to Unicorn (years)'] = (companies['Date Joined'] - pd.to_datetime(companies['Year Founded'], format='%Y')).dt.days / 365\n",
    "\n",
    "companies['Industry'] = companies['Industry'].str.lower().str.strip()\n",
    "\n",
    "df_max = companies.groupby(['Industry'])['Time to Unicorn (years)'].max().reset_index()\n",
    "\n",
    "\n",
    "\n"
   ]
  },
  {
   "cell_type": "code",
   "execution_count": 16,
   "id": "5b33c5f3",
   "metadata": {
    "id": "1153ca76-f1e3-4fea-a2db-a5de23614abd"
   },
   "outputs": [
    {
     "data": {
      "image/png": "[encoded data removed]",
      "text/plain": [
       "<Figure size 720x432 with 1 Axes>"
      ]
     },
     "metadata": {
      "needs_background": "light"
     },
     "output_type": "display_data"
    }
   ],
   "source": [
    "# Create bar plot\n",
    "# with the various industries as the categories of the bars\n",
    "# and the time it took to reach unicorn status as the height of the bars\n",
    "\n",
    "plt.figure(figsize=(10, 6))\n",
    "plt.bar(x=df_max['Industry'],height= df_max['Time to Unicorn (years)'],color='skyblue')\n",
    "plt.plot()\n",
    "\n",
    "\n",
    "plt.xlabel('Industry')\n",
    "plt.ylabel('Longest Time to Unicorn (years)')\n",
    "plt.title('Longest Time to Reach Unicorn Status for Each Industry')\n",
    "\n",
    "# Set tickangle for x-axis labels\n",
    "plt.xticks(rotation=90)\n",
    "\n",
    "plt.show()\n",
    "\n"
   ]
  },
  {
   "cell_type": "markdown",
   "id": "318732f7",
   "metadata": {
    "id": "59a1254d-4c99-49a6-b8fa-8dbd26bff000"
   },
   "source": [
    "**Question:** What do you observe from this bar plot?"
   ]
  },
  {
   "cell_type": "markdown",
   "id": "3c8fa9f4",
   "metadata": {
    "id": "QNdABMI_lUdO"
   },
   "source": [
    "[Write your response here. Double-click (or enter) to edit.]"
   ]
  },
  {
   "cell_type": "markdown",
   "id": "d0fd7b8e",
   "metadata": {
    "id": "95bc4742-40ff-4f02-ba94-b25f95094e54",
    "tags": []
   },
   "source": [
    "### Visualize the maximum unicorn company valuation per industry\n",
    "\n",
    "Visualize unicorn companies' maximum valuation for each industry represented in the sample. To create a bar plot to visualize this, use the `bar()` function from the `matplotlib.pyplot` module. Before plotting, create a new column that represents the companies' valuations as numbers (instead of strings, as they're currently represented). Then, use this new column to plot your data."
   ]
  },
  {
   "cell_type": "code",
   "execution_count": null,
   "id": "f76e2152",
   "metadata": {},
   "outputs": [],
   "source": [
    "\n",
    "\n",
    "\n"
   ]
  },
  {
   "cell_type": "code",
   "execution_count": null,
   "id": "d76dd6bc",
   "metadata": {},
   "outputs": [],
   "source": [
    "\n"
   ]
  },
  {
   "cell_type": "code",
   "execution_count": null,
   "id": "43eafb7c",
   "metadata": {
    "id": "5ccf1d5e-877e-4e73-bba8-23875c72494d"
   },
   "outputs": [],
   "source": [
    "# Create bar plot\n",
    "# with the various industries as the categories of the bars\n",
    "# and the maximum valuation for each industry as the height of the bars\n",
    "\n",
    "\n",
    "#  Convert valuation column to numeric values\n",
    "companies['Valuation'] = pd.to_numeric(companies['Valuation'].replace('[\\$,B]', '', regex=True))\n",
    "\n",
    "#  Clean up industry names\n",
    "companies['Industry'] = companies['Industry'].str.lower().str.strip()\n",
    "\n",
    "#  Group by industry and calculate the maximum valuation for each group\n",
    "df_max = companies.groupby(['Industry']).max().reset_index()\n",
    "\n",
    "#  Plot the data\n",
    "plt.figure(figsize=(10, 6))\n",
    "plt.bar(df_max['Industry'], df_max['Valuation'], color='skyblue')\n",
    "plt.xlabel('Industry')\n",
    "plt.ylabel('Maximum Valuation (Billion $)')\n",
    "plt.title('Maximum Unicorn Company Valuation per Industry')\n",
    "plt.xticks(rotation=45, ha='right')  # Rotate x-axis labels for better readability\n",
    "plt.tight_layout()\n",
    "plt.show()\n",
    "\n"
   ]
  },
  {
   "cell_type": "markdown",
   "id": "b28954da",
   "metadata": {
    "id": "NnL6YrfFoA3G",
    "jp-MarkdownHeadingCollapsed": true,
    "tags": []
   },
   "source": [
    "<details>\n",
    "  <summary><h4><strong>Hint 1</strong></h4></summary>\n",
    "\n",
    "Repeat the process from the last task, only this time with different variables.\n",
    "</details>"
   ]
  },
  {
   "cell_type": "markdown",
   "id": "9ce9ee30",
   "metadata": {
    "id": "bo8rC9dZoA3H",
    "jp-MarkdownHeadingCollapsed": true,
    "tags": []
   },
   "source": [
    "<details>\n",
    "  <summary><h4><strong>Hint 2</strong></h4></summary>\n",
    "\n",
    "Use the function in the `matplotlib.pyplot` module that allows you to create a bar plot, specifying the category and height for each bar. \n",
    "\n",
    "Use the functions in the `matplotlib.pyplot` module that allow you to set the title, x-axis label, and y-axis label of plots. In that module, there are also functions for rotating the labels on the x-axis and displaying the plot. \n",
    "\n",
    "</details>"
   ]
  },
  {
   "cell_type": "markdown",
   "id": "26dd6d04",
   "metadata": {
    "id": "TkeTAsUooA3J",
    "jp-MarkdownHeadingCollapsed": true,
    "tags": []
   },
   "source": [
    "<details>\n",
    "  <summary><h4><strong>Hint 3</strong></h4></summary>\n",
    "\n",
    "Use the `plt.bar()` to create the bar plot, passing in the categories and heights of the bars.\n",
    "\n",
    "Use `plt.title()`, `plt.xlabel()`, and `plt.ylabel()` to set the title, x-axis label, and y-axis label, respectively. \n",
    "\n",
    "Use `plt.xticks()` to rotate labels on the x-axis of a plot. The parameters `rotation=45, horizontalalignment='right'` can be passed in to rotate the labels by 45 degrees and align the labels to the right. \n",
    "\n",
    "Use `plt.show()` to display a plot.\n",
    "\n",
    "</details>"
   ]
  },
  {
   "cell_type": "markdown",
   "id": "e3947f53",
   "metadata": {
    "id": "441c0e4b-56bf-413c-9d40-abe1e5f13253"
   },
   "source": [
    "**Question:** What do you observe from this bar plot? "
   ]
  },
  {
   "cell_type": "markdown",
   "id": "e4b5bd53",
   "metadata": {
    "id": "p_XNHFiPlVvA"
   },
   "source": [
    "[Write your response here. Double-click (or enter) to edit.]"
   ]
  },
  {
   "cell_type": "markdown",
   "id": "b7688fc6",
   "metadata": {
    "id": "c77e7f0f-d2b9-4464-8a7c-9575d1e1ef9f"
   },
   "source": [
    "## Considerations"
   ]
  },
  {
   "cell_type": "markdown",
   "id": "5e572234",
   "metadata": {
    "id": "uPq1FOvCZI6w"
   },
   "source": [
    "**What are some key takeaways that you learned from this lab?**"
   ]
  },
  {
   "cell_type": "markdown",
   "id": "b106a514",
   "metadata": {
    "id": "nOPK-j3sZLsm"
   },
   "source": [
    "[Write your response here. Double-click (or enter) to edit.]"
   ]
  },
  {
   "cell_type": "markdown",
   "id": "7de7924e",
   "metadata": {
    "id": "d2NnpyO_ZL6x"
   },
   "source": [
    "**What findings would you share with others?**"
   ]
  },
  {
   "cell_type": "markdown",
   "id": "f941847c",
   "metadata": {
    "id": "goG0jEeQZOIr"
   },
   "source": [
    "[Write your response here. Double-click (or enter) to edit.]"
   ]
  },
  {
   "cell_type": "markdown",
   "id": "0574b061",
   "metadata": {
    "id": "TLioKMc0ZTZi"
   },
   "source": [
    "**What recommendations would you share with stakeholders based on these findings?**"
   ]
  },
  {
   "cell_type": "markdown",
   "id": "d31e927a",
   "metadata": {
    "id": "mVFm54BfZTv5"
   },
   "source": [
    "[Write your response here. Double-click (or enter) to edit.]"
   ]
  },
  {
   "cell_type": "markdown",
   "id": "bd3732b5",
   "metadata": {
    "id": "R9sAADZgr-YI"
   },
   "source": [
    "**References**\n",
    "\n",
    "Bhat, M.A. (2022, March). [*Unicorn Companies*](https://www.kaggle.com/datasets/mysarahmadbhat/unicorn-companies). \n",
    "\n"
   ]
  },
  {
   "cell_type": "markdown",
   "id": "e76d93de",
   "metadata": {},
   "source": [
    "**Congratulations!** You've completed this lab. However, you may not notice a green check mark next to this item on Coursera's platform. Please continue your progress regardless of the check mark. Just click on the \"save\" icon at the top of this notebook to ensure your work has been logged."
   ]
  }
 ],
 "metadata": {
  "colab": {
   "collapsed_sections": [],
   "name": "SR-005_Learner_Facing_Lab_Round4.ipynb",
   "provenance": [],
   "toc_visible": true
  },
  "kernelspec": {
   "display_name": "PythonData",
   "language": "python",
   "name": "pythondata"
  },
  "language_info": {
   "codemirror_mode": {
    "name": "ipython",
    "version": 3
   },
   "file_extension": ".py",
   "mimetype": "text/x-python",
   "name": "python",
   "nbconvert_exporter": "python",
   "pygments_lexer": "ipython3",
   "version": "3.7.7"
  },
  "toc-autonumbering": false,
  "toc-showtags": false
 },
 "nbformat": 4,
 "nbformat_minor": 5
}
